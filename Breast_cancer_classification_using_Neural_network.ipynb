{
  "nbformat": 4,
  "nbformat_minor": 0,
  "metadata": {
    "colab": {
      "provenance": [],
      "gpuType": "T4",
      "include_colab_link": true
    },
    "kernelspec": {
      "name": "python3",
      "display_name": "Python 3"
    },
    "accelerator": "GPU"
  },
  "cells": [
    {
      "cell_type": "markdown",
      "metadata": {
        "id": "view-in-github",
        "colab_type": "text"
      },
      "source": [
        "<a href=\"https://colab.research.google.com/github/SachinBiswas7/Breast-Cancer-Classification-with-python-Machine-learning-Logistic-Regression-/blob/main/Breast_cancer_classification_using_Neural_network.ipynb\" target=\"_parent\"><img src=\"https://colab.research.google.com/assets/colab-badge.svg\" alt=\"Open In Colab\"/></a>"
      ]
    },
    {
      "cell_type": "code",
      "metadata": {
        "id": "LvcZWwuGYCJO"
      },
      "source": [
        "import pandas as pd\n",
        "from matplotlib import pyplot as plt\n",
        "import seaborn as sns\n",
        "import numpy as np"
      ],
      "execution_count": 1,
      "outputs": []
    },
    {
      "cell_type": "code",
      "source": [],
      "metadata": {
        "id": "PDbF2ZxnbOhX"
      },
      "execution_count": 1,
      "outputs": []
    },
    {
      "cell_type": "code",
      "metadata": {
        "id": "KA-qsHWMYMfm"
      },
      "source": [
        "df = pd.read_csv(\"main.csv\",index_col=32)"
      ],
      "execution_count": 2,
      "outputs": []
    },
    {
      "cell_type": "code",
      "metadata": {
        "colab": {
          "base_uri": "https://localhost:8080/"
        },
        "id": "O2THPyFpYUtw",
        "outputId": "c4c1defd-74de-47c7-dc5b-d899bf0353c4"
      },
      "source": [
        "print(df.describe().T)"
      ],
      "execution_count": 3,
      "outputs": [
        {
          "output_type": "stream",
          "name": "stdout",
          "text": [
            "                         count          mean           std          min  \\\n",
            "id                       569.0  3.037183e+07  1.250206e+08  8670.000000   \n",
            "radius_mean              569.0  1.412729e+01  3.524049e+00     6.981000   \n",
            "texture_mean             569.0  1.928965e+01  4.301036e+00     9.710000   \n",
            "perimeter_mean           569.0  9.196903e+01  2.429898e+01    43.790000   \n",
            "area_mean                569.0  6.548891e+02  3.519141e+02   143.500000   \n",
            "smoothness_mean          569.0  9.636028e-02  1.406413e-02     0.052630   \n",
            "compactness_mean         569.0  1.043410e-01  5.281276e-02     0.019380   \n",
            "concavity_mean           569.0  8.879932e-02  7.971981e-02     0.000000   \n",
            "concave points_mean      569.0  4.891915e-02  3.880284e-02     0.000000   \n",
            "symmetry_mean            569.0  1.811619e-01  2.741428e-02     0.106000   \n",
            "fractal_dimension_mean   569.0  6.279761e-02  7.060363e-03     0.049960   \n",
            "radius_se                569.0  4.051721e-01  2.773127e-01     0.111500   \n",
            "texture_se               569.0  1.216853e+00  5.516484e-01     0.360200   \n",
            "perimeter_se             569.0  2.866059e+00  2.021855e+00     0.757000   \n",
            "area_se                  569.0  4.033708e+01  4.549101e+01     6.802000   \n",
            "smoothness_se            569.0  7.040979e-03  3.002518e-03     0.001713   \n",
            "compactness_se           569.0  2.547814e-02  1.790818e-02     0.002252   \n",
            "concavity_se             569.0  3.189372e-02  3.018606e-02     0.000000   \n",
            "concave points_se        569.0  1.179614e-02  6.170285e-03     0.000000   \n",
            "symmetry_se              569.0  2.054230e-02  8.266372e-03     0.007882   \n",
            "fractal_dimension_se     569.0  3.794904e-03  2.646071e-03     0.000895   \n",
            "radius_worst             569.0  1.626919e+01  4.833242e+00     7.930000   \n",
            "texture_worst            569.0  2.567722e+01  6.146258e+00    12.020000   \n",
            "perimeter_worst          569.0  1.072612e+02  3.360254e+01    50.410000   \n",
            "area_worst               569.0  8.805831e+02  5.693570e+02   185.200000   \n",
            "smoothness_worst         569.0  1.323686e-01  2.283243e-02     0.071170   \n",
            "compactness_worst        569.0  2.542650e-01  1.573365e-01     0.027290   \n",
            "concavity_worst          569.0  2.721885e-01  2.086243e-01     0.000000   \n",
            "concave points_worst     569.0  1.146062e-01  6.573234e-02     0.000000   \n",
            "symmetry_worst           569.0  2.900756e-01  6.186747e-02     0.156500   \n",
            "fractal_dimension_worst  569.0  8.394582e-02  1.806127e-02     0.055040   \n",
            "\n",
            "                                   25%            50%           75%  \\\n",
            "id                       869218.000000  906024.000000  8.813129e+06   \n",
            "radius_mean                  11.700000      13.370000  1.578000e+01   \n",
            "texture_mean                 16.170000      18.840000  2.180000e+01   \n",
            "perimeter_mean               75.170000      86.240000  1.041000e+02   \n",
            "area_mean                   420.300000     551.100000  7.827000e+02   \n",
            "smoothness_mean               0.086370       0.095870  1.053000e-01   \n",
            "compactness_mean              0.064920       0.092630  1.304000e-01   \n",
            "concavity_mean                0.029560       0.061540  1.307000e-01   \n",
            "concave points_mean           0.020310       0.033500  7.400000e-02   \n",
            "symmetry_mean                 0.161900       0.179200  1.957000e-01   \n",
            "fractal_dimension_mean        0.057700       0.061540  6.612000e-02   \n",
            "radius_se                     0.232400       0.324200  4.789000e-01   \n",
            "texture_se                    0.833900       1.108000  1.474000e+00   \n",
            "perimeter_se                  1.606000       2.287000  3.357000e+00   \n",
            "area_se                      17.850000      24.530000  4.519000e+01   \n",
            "smoothness_se                 0.005169       0.006380  8.146000e-03   \n",
            "compactness_se                0.013080       0.020450  3.245000e-02   \n",
            "concavity_se                  0.015090       0.025890  4.205000e-02   \n",
            "concave points_se             0.007638       0.010930  1.471000e-02   \n",
            "symmetry_se                   0.015160       0.018730  2.348000e-02   \n",
            "fractal_dimension_se          0.002248       0.003187  4.558000e-03   \n",
            "radius_worst                 13.010000      14.970000  1.879000e+01   \n",
            "texture_worst                21.080000      25.410000  2.972000e+01   \n",
            "perimeter_worst              84.110000      97.660000  1.254000e+02   \n",
            "area_worst                  515.300000     686.500000  1.084000e+03   \n",
            "smoothness_worst              0.116600       0.131300  1.460000e-01   \n",
            "compactness_worst             0.147200       0.211900  3.391000e-01   \n",
            "concavity_worst               0.114500       0.226700  3.829000e-01   \n",
            "concave points_worst          0.064930       0.099930  1.614000e-01   \n",
            "symmetry_worst                0.250400       0.282200  3.179000e-01   \n",
            "fractal_dimension_worst       0.071460       0.080040  9.208000e-02   \n",
            "\n",
            "                                  max  \n",
            "id                       9.113205e+08  \n",
            "radius_mean              2.811000e+01  \n",
            "texture_mean             3.928000e+01  \n",
            "perimeter_mean           1.885000e+02  \n",
            "area_mean                2.501000e+03  \n",
            "smoothness_mean          1.634000e-01  \n",
            "compactness_mean         3.454000e-01  \n",
            "concavity_mean           4.268000e-01  \n",
            "concave points_mean      2.012000e-01  \n",
            "symmetry_mean            3.040000e-01  \n",
            "fractal_dimension_mean   9.744000e-02  \n",
            "radius_se                2.873000e+00  \n",
            "texture_se               4.885000e+00  \n",
            "perimeter_se             2.198000e+01  \n",
            "area_se                  5.422000e+02  \n",
            "smoothness_se            3.113000e-02  \n",
            "compactness_se           1.354000e-01  \n",
            "concavity_se             3.960000e-01  \n",
            "concave points_se        5.279000e-02  \n",
            "symmetry_se              7.895000e-02  \n",
            "fractal_dimension_se     2.984000e-02  \n",
            "radius_worst             3.604000e+01  \n",
            "texture_worst            4.954000e+01  \n",
            "perimeter_worst          2.512000e+02  \n",
            "area_worst               4.254000e+03  \n",
            "smoothness_worst         2.226000e-01  \n",
            "compactness_worst        1.058000e+00  \n",
            "concavity_worst          1.252000e+00  \n",
            "concave points_worst     2.910000e-01  \n",
            "symmetry_worst           6.638000e-01  \n",
            "fractal_dimension_worst  2.075000e-01  \n"
          ]
        }
      ]
    },
    {
      "cell_type": "code",
      "metadata": {
        "colab": {
          "base_uri": "https://localhost:8080/"
        },
        "id": "vnjyJZThYqPg",
        "outputId": "01b4dea7-5a46-4f90-ef39-11fb45b253dd"
      },
      "source": [
        "print(df.isnull().sum())\n",
        "#df = df.dropna()"
      ],
      "execution_count": 4,
      "outputs": [
        {
          "output_type": "stream",
          "name": "stdout",
          "text": [
            "id                         0\n",
            "diagnosis                  0\n",
            "radius_mean                0\n",
            "texture_mean               0\n",
            "perimeter_mean             0\n",
            "area_mean                  0\n",
            "smoothness_mean            0\n",
            "compactness_mean           0\n",
            "concavity_mean             0\n",
            "concave points_mean        0\n",
            "symmetry_mean              0\n",
            "fractal_dimension_mean     0\n",
            "radius_se                  0\n",
            "texture_se                 0\n",
            "perimeter_se               0\n",
            "area_se                    0\n",
            "smoothness_se              0\n",
            "compactness_se             0\n",
            "concavity_se               0\n",
            "concave points_se          0\n",
            "symmetry_se                0\n",
            "fractal_dimension_se       0\n",
            "radius_worst               0\n",
            "texture_worst              0\n",
            "perimeter_worst            0\n",
            "area_worst                 0\n",
            "smoothness_worst           0\n",
            "compactness_worst          0\n",
            "concavity_worst            0\n",
            "concave points_worst       0\n",
            "symmetry_worst             0\n",
            "fractal_dimension_worst    0\n",
            "dtype: int64\n"
          ]
        }
      ]
    },
    {
      "cell_type": "code",
      "metadata": {
        "colab": {
          "base_uri": "https://localhost:8080/"
        },
        "id": "1EUWeZDgY0NA",
        "outputId": "b4471cfa-0a77-4d78-b0ac-057d8e31b916"
      },
      "source": [
        "# Rename 'Diagnosis' column to 'Label'\n",
        "df['Label'] = df['diagnosis']\n",
        "df = df.drop(columns=['diagnosis'])\n",
        "\n",
        "# Print data types of columns\n",
        "print(df.dtypes)\n"
      ],
      "execution_count": 5,
      "outputs": [
        {
          "output_type": "stream",
          "name": "stdout",
          "text": [
            "id                           int64\n",
            "radius_mean                float64\n",
            "texture_mean               float64\n",
            "perimeter_mean             float64\n",
            "area_mean                  float64\n",
            "smoothness_mean            float64\n",
            "compactness_mean           float64\n",
            "concavity_mean             float64\n",
            "concave points_mean        float64\n",
            "symmetry_mean              float64\n",
            "fractal_dimension_mean     float64\n",
            "radius_se                  float64\n",
            "texture_se                 float64\n",
            "perimeter_se               float64\n",
            "area_se                    float64\n",
            "smoothness_se              float64\n",
            "compactness_se             float64\n",
            "concavity_se               float64\n",
            "concave points_se          float64\n",
            "symmetry_se                float64\n",
            "fractal_dimension_se       float64\n",
            "radius_worst               float64\n",
            "texture_worst              float64\n",
            "perimeter_worst            float64\n",
            "area_worst                 float64\n",
            "smoothness_worst           float64\n",
            "compactness_worst          float64\n",
            "concavity_worst            float64\n",
            "concave points_worst       float64\n",
            "symmetry_worst             float64\n",
            "fractal_dimension_worst    float64\n",
            "Label                       object\n",
            "dtype: object\n"
          ]
        }
      ]
    },
    {
      "cell_type": "code",
      "source": [
        "#Understand the data\n",
        "sns.countplot(x=\"Label\", data=df) #M - malignant   B - benign"
      ],
      "metadata": {
        "id": "UZIP-8fTXkat",
        "outputId": "5abe3cfe-2b84-4a7f-d585-45033f08f87e",
        "colab": {
          "base_uri": "https://localhost:8080/",
          "height": 466
        }
      },
      "execution_count": 6,
      "outputs": [
        {
          "output_type": "execute_result",
          "data": {
            "text/plain": [
              "<Axes: xlabel='Label', ylabel='count'>"
            ]
          },
          "metadata": {},
          "execution_count": 6
        },
        {
          "output_type": "display_data",
          "data": {
            "text/plain": [
              "<Figure size 640x480 with 1 Axes>"
            ],
            "image/png": "[encoded data removed]"
          },
          "metadata": {}
        }
      ]
    },
    {
      "cell_type": "code",
      "metadata": {
        "colab": {
          "base_uri": "https://localhost:8080/"
        },
        "id": "sHf0pr6mZ-sS",
        "outputId": "3488c8a0-3f47-4a2c-e81f-ae6e31b4ddcc"
      },
      "source": [
        "####### Replace categorical values with numbers########\n",
        "print(\"Distribution of data: \", df['Label'].value_counts())\n",
        "\n",
        "#Define the dependent variable that needs to be predicted (labels)\n",
        "y = df[\"Label\"].values\n",
        "print(\"Labels before encoding are: \", np.unique(y))\n",
        "\n",
        "# Encoding categorical data from text (B and M) to integers (0 and 1)\n",
        "from sklearn.preprocessing import LabelEncoder\n",
        "labelencoder = LabelEncoder()\n",
        "Y = labelencoder.fit_transform(y) # M=1 and B=0\n",
        "print(\"Labels after encoding are: \", np.unique(Y))"
      ],
      "execution_count": 7,
      "outputs": [
        {
          "output_type": "stream",
          "name": "stdout",
          "text": [
            "Distribution of data:  B    357\n",
            "M    212\n",
            "Name: Label, dtype: int64\n",
            "Labels before encoding are:  ['B' 'M']\n",
            "Labels after encoding are:  [0 1]\n"
          ]
        }
      ]
    },
    {
      "cell_type": "code",
      "metadata": {
        "colab": {
          "base_uri": "https://localhost:8080/"
        },
        "id": "k4yc60BVajj9",
        "outputId": "dabf5ef9-01fe-4a2b-fa0b-ceada4670db6"
      },
      "source": [
        "#Define x and normalize / scale values\n",
        "\n",
        "#Define the independent variables. Drop label and ID, and normalize other data\n",
        "X = df.drop(labels = [\"Label\", \"id\"], axis=1)\n",
        "print(X.describe().T) #Needs scaling"
      ],
      "execution_count": 8,
      "outputs": [
        {
          "output_type": "stream",
          "name": "stdout",
          "text": [
            "                         count        mean         std         min  \\\n",
            "radius_mean              569.0   14.127292    3.524049    6.981000   \n",
            "texture_mean             569.0   19.289649    4.301036    9.710000   \n",
            "perimeter_mean           569.0   91.969033   24.298981   43.790000   \n",
            "area_mean                569.0  654.889104  351.914129  143.500000   \n",
            "smoothness_mean          569.0    0.096360    0.014064    0.052630   \n",
            "compactness_mean         569.0    0.104341    0.052813    0.019380   \n",
            "concavity_mean           569.0    0.088799    0.079720    0.000000   \n",
            "concave points_mean      569.0    0.048919    0.038803    0.000000   \n",
            "symmetry_mean            569.0    0.181162    0.027414    0.106000   \n",
            "fractal_dimension_mean   569.0    0.062798    0.007060    0.049960   \n",
            "radius_se                569.0    0.405172    0.277313    0.111500   \n",
            "texture_se               569.0    1.216853    0.551648    0.360200   \n",
            "perimeter_se             569.0    2.866059    2.021855    0.757000   \n",
            "area_se                  569.0   40.337079   45.491006    6.802000   \n",
            "smoothness_se            569.0    0.007041    0.003003    0.001713   \n",
            "compactness_se           569.0    0.025478    0.017908    0.002252   \n",
            "concavity_se             569.0    0.031894    0.030186    0.000000   \n",
            "concave points_se        569.0    0.011796    0.006170    0.000000   \n",
            "symmetry_se              569.0    0.020542    0.008266    0.007882   \n",
            "fractal_dimension_se     569.0    0.003795    0.002646    0.000895   \n",
            "radius_worst             569.0   16.269190    4.833242    7.930000   \n",
            "texture_worst            569.0   25.677223    6.146258   12.020000   \n",
            "perimeter_worst          569.0  107.261213   33.602542   50.410000   \n",
            "area_worst               569.0  880.583128  569.356993  185.200000   \n",
            "smoothness_worst         569.0    0.132369    0.022832    0.071170   \n",
            "compactness_worst        569.0    0.254265    0.157336    0.027290   \n",
            "concavity_worst          569.0    0.272188    0.208624    0.000000   \n",
            "concave points_worst     569.0    0.114606    0.065732    0.000000   \n",
            "symmetry_worst           569.0    0.290076    0.061867    0.156500   \n",
            "fractal_dimension_worst  569.0    0.083946    0.018061    0.055040   \n",
            "\n",
            "                                25%         50%          75%         max  \n",
            "radius_mean               11.700000   13.370000    15.780000    28.11000  \n",
            "texture_mean              16.170000   18.840000    21.800000    39.28000  \n",
            "perimeter_mean            75.170000   86.240000   104.100000   188.50000  \n",
            "area_mean                420.300000  551.100000   782.700000  2501.00000  \n",
            "smoothness_mean            0.086370    0.095870     0.105300     0.16340  \n",
            "compactness_mean           0.064920    0.092630     0.130400     0.34540  \n",
            "concavity_mean             0.029560    0.061540     0.130700     0.42680  \n",
            "concave points_mean        0.020310    0.033500     0.074000     0.20120  \n",
            "symmetry_mean              0.161900    0.179200     0.195700     0.30400  \n",
            "fractal_dimension_mean     0.057700    0.061540     0.066120     0.09744  \n",
            "radius_se                  0.232400    0.324200     0.478900     2.87300  \n",
            "texture_se                 0.833900    1.108000     1.474000     4.88500  \n",
            "perimeter_se               1.606000    2.287000     3.357000    21.98000  \n",
            "area_se                   17.850000   24.530000    45.190000   542.20000  \n",
            "smoothness_se              0.005169    0.006380     0.008146     0.03113  \n",
            "compactness_se             0.013080    0.020450     0.032450     0.13540  \n",
            "concavity_se               0.015090    0.025890     0.042050     0.39600  \n",
            "concave points_se          0.007638    0.010930     0.014710     0.05279  \n",
            "symmetry_se                0.015160    0.018730     0.023480     0.07895  \n",
            "fractal_dimension_se       0.002248    0.003187     0.004558     0.02984  \n",
            "radius_worst              13.010000   14.970000    18.790000    36.04000  \n",
            "texture_worst             21.080000   25.410000    29.720000    49.54000  \n",
            "perimeter_worst           84.110000   97.660000   125.400000   251.20000  \n",
            "area_worst               515.300000  686.500000  1084.000000  4254.00000  \n",
            "smoothness_worst           0.116600    0.131300     0.146000     0.22260  \n",
            "compactness_worst          0.147200    0.211900     0.339100     1.05800  \n",
            "concavity_worst            0.114500    0.226700     0.382900     1.25200  \n",
            "concave points_worst       0.064930    0.099930     0.161400     0.29100  \n",
            "symmetry_worst             0.250400    0.282200     0.317900     0.66380  \n",
            "fractal_dimension_worst    0.071460    0.080040     0.092080     0.20750  \n"
          ]
        }
      ]
    },
    {
      "cell_type": "code",
      "metadata": {
        "colab": {
          "base_uri": "https://localhost:8080/"
        },
        "id": "IFVtqnTHbCS9",
        "outputId": "247a8c0c-4bea-429f-95da-170d876c1ea0"
      },
      "source": [
        "#Scale / normalize the values to bring them to similar range\n",
        "from sklearn.preprocessing import MinMaxScaler\n",
        "scaler = MinMaxScaler()\n",
        "scaler.fit(X)\n",
        "X = scaler.transform(X)\n",
        "print(X)  #Scaled values"
      ],
      "execution_count": 9,
      "outputs": [
        {
          "output_type": "stream",
          "name": "stdout",
          "text": [
            "[[0.52103744 0.0226581  0.54598853 ... 0.91202749 0.59846245 0.41886396]\n",
            " [0.64314449 0.27257355 0.61578329 ... 0.63917526 0.23358959 0.22287813]\n",
            " [0.60149557 0.3902604  0.59574321 ... 0.83505155 0.40370589 0.21343303]\n",
            " ...\n",
            " [0.45525108 0.62123774 0.44578813 ... 0.48728522 0.12872068 0.1519087 ]\n",
            " [0.64456434 0.66351031 0.66553797 ... 0.91065292 0.49714173 0.45231536]\n",
            " [0.03686876 0.50152181 0.02853984 ... 0.         0.25744136 0.10068215]]\n"
          ]
        }
      ]
    },
    {
      "cell_type": "code",
      "metadata": {
        "colab": {
          "base_uri": "https://localhost:8080/"
        },
        "id": "HjCYDT5kbUTz",
        "outputId": "64189f04-1f29-427d-cc50-47214d083577"
      },
      "source": [
        "#Split data into train and test to verify accuracy after fitting the model.\n",
        "from sklearn.model_selection import train_test_split\n",
        "X_train, X_test, y_train, y_test = train_test_split(X, Y, test_size=0.25, random_state=42)\n",
        "print(\"Shape of training data is: \", X_train.shape)\n",
        "print(\"Shape of testing data is: \", X_test.shape)"
      ],
      "execution_count": 10,
      "outputs": [
        {
          "output_type": "stream",
          "name": "stdout",
          "text": [
            "Shape of training data is:  (426, 30)\n",
            "Shape of testing data is:  (143, 30)\n"
          ]
        }
      ]
    },
    {
      "cell_type": "code",
      "metadata": {
        "id": "NJiToUeIbmNx"
      },
      "source": [
        "from keras.models import Sequential\n",
        "from keras.layers import Dense, Activation, Dropout"
      ],
      "execution_count": 11,
      "outputs": []
    },
    {
      "cell_type": "code",
      "metadata": {
        "colab": {
          "base_uri": "https://localhost:8080/"
        },
        "id": "d5KZ-t-Pb2-F",
        "outputId": "6e79f396-3f38-49cf-a959-e8b3741e5a9f"
      },
      "source": [
        "model = Sequential()\n",
        "model.add(Dense(16, input_dim=30, activation='relu'))\n",
        "model.add(Dropout(0.35))\n",
        "model.add(Dense(1))\n",
        "model.add(Activation('sigmoid'))\n",
        "\n",
        "model.compile(loss='binary_crossentropy', optimizer='adam', metrics=['accuracy'])\n",
        "\n",
        "print(model.summary())"
      ],
      "execution_count": 12,
      "outputs": [
        {
          "output_type": "stream",
          "name": "stdout",
          "text": [
            "Model: \"sequential\"\n",
            "_________________________________________________________________\n",
            " Layer (type)                Output Shape              Param #   \n",
            "=================================================================\n",
            " dense (Dense)               (None, 16)                496       \n",
            "                                                                 \n",
            " dropout (Dropout)           (None, 16)                0         \n",
            "                                                                 \n",
            " dense_1 (Dense)             (None, 1)                 17        \n",
            "                                                                 \n",
            " activation (Activation)     (None, 1)                 0         \n",
            "                                                                 \n",
            "=================================================================\n",
            "Total params: 513 (2.00 KB)\n",
            "Trainable params: 513 (2.00 KB)\n",
            "Non-trainable params: 0 (0.00 Byte)\n",
            "_________________________________________________________________\n",
            "None\n"
          ]
        }
      ]
    },
    {
      "cell_type": "code",
      "metadata": {
        "colab": {
          "base_uri": "https://localhost:8080/"
        },
        "id": "YhQev7Jmc3Z2",
        "outputId": "6d23fb8e-0dcc-4fad-be43-d551c13a7a72"
      },
      "source": [
        "#Fit with no early stopping or other callbacks\n",
        "history = model.fit(X_train, y_train, verbose=1, epochs=100, batch_size=40,\n",
        "                    validation_data=(X_test, y_test))\n"
      ],
      "execution_count": 13,
      "outputs": [
        {
          "output_type": "stream",
          "name": "stdout",
          "text": [
            "Epoch 1/100\n",
            "11/11 [==============================] - 4s 24ms/step - loss: 0.6968 - accuracy: 0.5399 - val_loss: 0.6817 - val_accuracy: 0.6154\n",
            "Epoch 2/100\n",
            "11/11 [==============================] - 0s 7ms/step - loss: 0.6812 - accuracy: 0.5915 - val_loss: 0.6648 - val_accuracy: 0.6364\n",
            "Epoch 3/100\n",
            "11/11 [==============================] - 0s 7ms/step - loss: 0.6597 - accuracy: 0.6291 - val_loss: 0.6499 - val_accuracy: 0.6993\n",
            "Epoch 4/100\n",
            "11/11 [==============================] - 0s 6ms/step - loss: 0.6590 - accuracy: 0.6127 - val_loss: 0.6351 - val_accuracy: 0.7413\n",
            "Epoch 5/100\n",
            "11/11 [==============================] - 0s 6ms/step - loss: 0.6381 - accuracy: 0.6784 - val_loss: 0.6204 - val_accuracy: 0.7762\n",
            "Epoch 6/100\n",
            "11/11 [==============================] - 0s 7ms/step - loss: 0.6315 - accuracy: 0.7089 - val_loss: 0.6046 - val_accuracy: 0.8182\n",
            "Epoch 7/100\n",
            "11/11 [==============================] - 0s 7ms/step - loss: 0.6054 - accuracy: 0.7676 - val_loss: 0.5891 - val_accuracy: 0.8322\n",
            "Epoch 8/100\n",
            "11/11 [==============================] - 0s 6ms/step - loss: 0.5989 - accuracy: 0.7723 - val_loss: 0.5722 - val_accuracy: 0.8392\n",
            "Epoch 9/100\n",
            "11/11 [==============================] - 0s 6ms/step - loss: 0.5802 - accuracy: 0.7723 - val_loss: 0.5551 - val_accuracy: 0.8462\n",
            "Epoch 10/100\n",
            "11/11 [==============================] - 0s 10ms/step - loss: 0.5783 - accuracy: 0.7864 - val_loss: 0.5378 - val_accuracy: 0.8601\n",
            "Epoch 11/100\n",
            "11/11 [==============================] - 0s 7ms/step - loss: 0.5559 - accuracy: 0.8052 - val_loss: 0.5207 - val_accuracy: 0.8671\n",
            "Epoch 12/100\n",
            "11/11 [==============================] - 0s 6ms/step - loss: 0.5354 - accuracy: 0.8286 - val_loss: 0.5037 - val_accuracy: 0.8671\n",
            "Epoch 13/100\n",
            "11/11 [==============================] - 0s 6ms/step - loss: 0.5346 - accuracy: 0.7934 - val_loss: 0.4866 - val_accuracy: 0.8741\n",
            "Epoch 14/100\n",
            "11/11 [==============================] - 0s 7ms/step - loss: 0.5148 - accuracy: 0.8216 - val_loss: 0.4696 - val_accuracy: 0.8951\n",
            "Epoch 15/100\n",
            "11/11 [==============================] - 0s 7ms/step - loss: 0.4908 - accuracy: 0.8521 - val_loss: 0.4528 - val_accuracy: 0.9021\n",
            "Epoch 16/100\n",
            "11/11 [==============================] - 0s 6ms/step - loss: 0.4828 - accuracy: 0.8498 - val_loss: 0.4364 - val_accuracy: 0.9021\n",
            "Epoch 17/100\n",
            "11/11 [==============================] - 0s 6ms/step - loss: 0.4752 - accuracy: 0.8545 - val_loss: 0.4212 - val_accuracy: 0.9021\n",
            "Epoch 18/100\n",
            "11/11 [==============================] - 0s 5ms/step - loss: 0.4570 - accuracy: 0.8498 - val_loss: 0.4064 - val_accuracy: 0.9021\n",
            "Epoch 19/100\n",
            "11/11 [==============================] - 0s 7ms/step - loss: 0.4352 - accuracy: 0.8521 - val_loss: 0.3926 - val_accuracy: 0.9091\n",
            "Epoch 20/100\n",
            "11/11 [==============================] - 0s 6ms/step - loss: 0.4232 - accuracy: 0.8709 - val_loss: 0.3785 - val_accuracy: 0.9021\n",
            "Epoch 21/100\n",
            "11/11 [==============================] - 0s 6ms/step - loss: 0.4091 - accuracy: 0.8662 - val_loss: 0.3656 - val_accuracy: 0.9091\n",
            "Epoch 22/100\n",
            "11/11 [==============================] - 0s 7ms/step - loss: 0.4134 - accuracy: 0.8803 - val_loss: 0.3537 - val_accuracy: 0.9091\n",
            "Epoch 23/100\n",
            "11/11 [==============================] - 0s 7ms/step - loss: 0.3948 - accuracy: 0.8685 - val_loss: 0.3415 - val_accuracy: 0.9091\n",
            "Epoch 24/100\n",
            "11/11 [==============================] - 0s 8ms/step - loss: 0.3977 - accuracy: 0.8615 - val_loss: 0.3311 - val_accuracy: 0.9091\n",
            "Epoch 25/100\n",
            "11/11 [==============================] - 0s 6ms/step - loss: 0.3663 - accuracy: 0.8779 - val_loss: 0.3216 - val_accuracy: 0.9231\n",
            "Epoch 26/100\n",
            "11/11 [==============================] - 0s 6ms/step - loss: 0.3741 - accuracy: 0.8756 - val_loss: 0.3119 - val_accuracy: 0.9231\n",
            "Epoch 27/100\n",
            "11/11 [==============================] - 0s 6ms/step - loss: 0.3556 - accuracy: 0.8779 - val_loss: 0.3037 - val_accuracy: 0.9231\n",
            "Epoch 28/100\n",
            "11/11 [==============================] - 0s 6ms/step - loss: 0.3520 - accuracy: 0.8826 - val_loss: 0.2956 - val_accuracy: 0.9301\n",
            "Epoch 29/100\n",
            "11/11 [==============================] - 0s 6ms/step - loss: 0.3564 - accuracy: 0.8803 - val_loss: 0.2887 - val_accuracy: 0.9441\n",
            "Epoch 30/100\n",
            "11/11 [==============================] - 0s 6ms/step - loss: 0.3512 - accuracy: 0.8638 - val_loss: 0.2810 - val_accuracy: 0.9301\n",
            "Epoch 31/100\n",
            "11/11 [==============================] - 0s 6ms/step - loss: 0.3404 - accuracy: 0.8826 - val_loss: 0.2742 - val_accuracy: 0.9301\n",
            "Epoch 32/100\n",
            "11/11 [==============================] - 0s 10ms/step - loss: 0.3362 - accuracy: 0.8967 - val_loss: 0.2674 - val_accuracy: 0.9371\n",
            "Epoch 33/100\n",
            "11/11 [==============================] - 0s 9ms/step - loss: 0.3377 - accuracy: 0.8826 - val_loss: 0.2622 - val_accuracy: 0.9371\n",
            "Epoch 34/100\n",
            "11/11 [==============================] - 0s 8ms/step - loss: 0.3092 - accuracy: 0.9014 - val_loss: 0.2546 - val_accuracy: 0.9441\n",
            "Epoch 35/100\n",
            "11/11 [==============================] - 0s 9ms/step - loss: 0.3103 - accuracy: 0.8779 - val_loss: 0.2475 - val_accuracy: 0.9371\n",
            "Epoch 36/100\n",
            "11/11 [==============================] - 0s 9ms/step - loss: 0.3072 - accuracy: 0.9014 - val_loss: 0.2420 - val_accuracy: 0.9371\n",
            "Epoch 37/100\n",
            "11/11 [==============================] - 0s 8ms/step - loss: 0.3074 - accuracy: 0.8873 - val_loss: 0.2375 - val_accuracy: 0.9371\n",
            "Epoch 38/100\n",
            "11/11 [==============================] - 0s 9ms/step - loss: 0.3147 - accuracy: 0.8756 - val_loss: 0.2334 - val_accuracy: 0.9371\n",
            "Epoch 39/100\n",
            "11/11 [==============================] - 0s 10ms/step - loss: 0.3056 - accuracy: 0.8991 - val_loss: 0.2279 - val_accuracy: 0.9441\n",
            "Epoch 40/100\n",
            "11/11 [==============================] - 0s 9ms/step - loss: 0.2805 - accuracy: 0.9014 - val_loss: 0.2223 - val_accuracy: 0.9371\n",
            "Epoch 41/100\n",
            "11/11 [==============================] - 0s 8ms/step - loss: 0.2729 - accuracy: 0.8991 - val_loss: 0.2173 - val_accuracy: 0.9441\n",
            "Epoch 42/100\n",
            "11/11 [==============================] - 0s 8ms/step - loss: 0.2721 - accuracy: 0.9155 - val_loss: 0.2117 - val_accuracy: 0.9441\n",
            "Epoch 43/100\n",
            "11/11 [==============================] - 0s 9ms/step - loss: 0.2759 - accuracy: 0.8991 - val_loss: 0.2064 - val_accuracy: 0.9371\n",
            "Epoch 44/100\n",
            "11/11 [==============================] - 0s 9ms/step - loss: 0.2761 - accuracy: 0.9155 - val_loss: 0.2024 - val_accuracy: 0.9371\n",
            "Epoch 45/100\n",
            "11/11 [==============================] - 0s 9ms/step - loss: 0.2779 - accuracy: 0.9014 - val_loss: 0.1989 - val_accuracy: 0.9371\n",
            "Epoch 46/100\n",
            "11/11 [==============================] - 0s 9ms/step - loss: 0.2677 - accuracy: 0.8920 - val_loss: 0.1952 - val_accuracy: 0.9301\n",
            "Epoch 47/100\n",
            "11/11 [==============================] - 0s 10ms/step - loss: 0.2651 - accuracy: 0.9061 - val_loss: 0.1922 - val_accuracy: 0.9371\n",
            "Epoch 48/100\n",
            "11/11 [==============================] - 0s 9ms/step - loss: 0.2586 - accuracy: 0.9038 - val_loss: 0.1894 - val_accuracy: 0.9301\n",
            "Epoch 49/100\n",
            "11/11 [==============================] - 0s 9ms/step - loss: 0.2676 - accuracy: 0.8967 - val_loss: 0.1865 - val_accuracy: 0.9301\n",
            "Epoch 50/100\n",
            "11/11 [==============================] - 0s 10ms/step - loss: 0.2428 - accuracy: 0.9155 - val_loss: 0.1854 - val_accuracy: 0.9371\n",
            "Epoch 51/100\n",
            "11/11 [==============================] - 0s 9ms/step - loss: 0.2502 - accuracy: 0.9178 - val_loss: 0.1827 - val_accuracy: 0.9371\n",
            "Epoch 52/100\n",
            "11/11 [==============================] - 0s 8ms/step - loss: 0.2433 - accuracy: 0.9038 - val_loss: 0.1783 - val_accuracy: 0.9371\n",
            "Epoch 53/100\n",
            "11/11 [==============================] - 0s 6ms/step - loss: 0.2413 - accuracy: 0.9225 - val_loss: 0.1746 - val_accuracy: 0.9371\n",
            "Epoch 54/100\n",
            "11/11 [==============================] - 0s 6ms/step - loss: 0.2428 - accuracy: 0.9131 - val_loss: 0.1706 - val_accuracy: 0.9441\n",
            "Epoch 55/100\n",
            "11/11 [==============================] - 0s 7ms/step - loss: 0.2362 - accuracy: 0.9131 - val_loss: 0.1681 - val_accuracy: 0.9441\n",
            "Epoch 56/100\n",
            "11/11 [==============================] - 0s 7ms/step - loss: 0.2404 - accuracy: 0.8991 - val_loss: 0.1663 - val_accuracy: 0.9371\n",
            "Epoch 57/100\n",
            "11/11 [==============================] - 0s 7ms/step - loss: 0.2321 - accuracy: 0.9085 - val_loss: 0.1658 - val_accuracy: 0.9441\n",
            "Epoch 58/100\n",
            "11/11 [==============================] - 0s 8ms/step - loss: 0.2127 - accuracy: 0.9249 - val_loss: 0.1608 - val_accuracy: 0.9441\n",
            "Epoch 59/100\n",
            "11/11 [==============================] - 0s 7ms/step - loss: 0.2346 - accuracy: 0.9038 - val_loss: 0.1589 - val_accuracy: 0.9441\n",
            "Epoch 60/100\n",
            "11/11 [==============================] - 0s 7ms/step - loss: 0.2227 - accuracy: 0.9319 - val_loss: 0.1579 - val_accuracy: 0.9371\n",
            "Epoch 61/100\n",
            "11/11 [==============================] - 0s 5ms/step - loss: 0.2272 - accuracy: 0.9202 - val_loss: 0.1545 - val_accuracy: 0.9441\n",
            "Epoch 62/100\n",
            "11/11 [==============================] - 0s 6ms/step - loss: 0.2248 - accuracy: 0.9155 - val_loss: 0.1528 - val_accuracy: 0.9441\n",
            "Epoch 63/100\n",
            "11/11 [==============================] - 0s 7ms/step - loss: 0.2173 - accuracy: 0.9061 - val_loss: 0.1510 - val_accuracy: 0.9580\n",
            "Epoch 64/100\n",
            "11/11 [==============================] - 0s 6ms/step - loss: 0.2201 - accuracy: 0.9178 - val_loss: 0.1510 - val_accuracy: 0.9580\n",
            "Epoch 65/100\n",
            "11/11 [==============================] - 0s 7ms/step - loss: 0.1963 - accuracy: 0.9413 - val_loss: 0.1472 - val_accuracy: 0.9650\n",
            "Epoch 66/100\n",
            "11/11 [==============================] - 0s 7ms/step - loss: 0.2170 - accuracy: 0.9178 - val_loss: 0.1441 - val_accuracy: 0.9510\n",
            "Epoch 67/100\n",
            "11/11 [==============================] - 0s 8ms/step - loss: 0.2250 - accuracy: 0.9108 - val_loss: 0.1434 - val_accuracy: 0.9720\n",
            "Epoch 68/100\n",
            "11/11 [==============================] - 0s 6ms/step - loss: 0.1961 - accuracy: 0.9202 - val_loss: 0.1431 - val_accuracy: 0.9580\n",
            "Epoch 69/100\n",
            "11/11 [==============================] - 0s 5ms/step - loss: 0.2110 - accuracy: 0.9296 - val_loss: 0.1408 - val_accuracy: 0.9720\n",
            "Epoch 70/100\n",
            "11/11 [==============================] - 0s 7ms/step - loss: 0.1962 - accuracy: 0.9390 - val_loss: 0.1395 - val_accuracy: 0.9580\n",
            "Epoch 71/100\n",
            "11/11 [==============================] - 0s 6ms/step - loss: 0.2020 - accuracy: 0.9319 - val_loss: 0.1384 - val_accuracy: 0.9580\n",
            "Epoch 72/100\n",
            "11/11 [==============================] - 0s 7ms/step - loss: 0.1915 - accuracy: 0.9390 - val_loss: 0.1354 - val_accuracy: 0.9720\n",
            "Epoch 73/100\n",
            "11/11 [==============================] - 0s 6ms/step - loss: 0.2145 - accuracy: 0.9272 - val_loss: 0.1326 - val_accuracy: 0.9720\n",
            "Epoch 74/100\n",
            "11/11 [==============================] - 0s 6ms/step - loss: 0.1900 - accuracy: 0.9272 - val_loss: 0.1317 - val_accuracy: 0.9720\n",
            "Epoch 75/100\n",
            "11/11 [==============================] - 0s 7ms/step - loss: 0.1923 - accuracy: 0.9296 - val_loss: 0.1288 - val_accuracy: 0.9720\n",
            "Epoch 76/100\n",
            "11/11 [==============================] - 0s 5ms/step - loss: 0.1965 - accuracy: 0.9366 - val_loss: 0.1265 - val_accuracy: 0.9720\n",
            "Epoch 77/100\n",
            "11/11 [==============================] - 0s 6ms/step - loss: 0.1858 - accuracy: 0.9343 - val_loss: 0.1263 - val_accuracy: 0.9720\n",
            "Epoch 78/100\n",
            "11/11 [==============================] - 0s 6ms/step - loss: 0.1945 - accuracy: 0.9272 - val_loss: 0.1253 - val_accuracy: 0.9720\n",
            "Epoch 79/100\n",
            "11/11 [==============================] - 0s 7ms/step - loss: 0.1872 - accuracy: 0.9249 - val_loss: 0.1237 - val_accuracy: 0.9720\n",
            "Epoch 80/100\n",
            "11/11 [==============================] - 0s 7ms/step - loss: 0.1894 - accuracy: 0.9390 - val_loss: 0.1218 - val_accuracy: 0.9720\n",
            "Epoch 81/100\n",
            "11/11 [==============================] - 0s 7ms/step - loss: 0.1816 - accuracy: 0.9319 - val_loss: 0.1208 - val_accuracy: 0.9720\n",
            "Epoch 82/100\n",
            "11/11 [==============================] - 0s 6ms/step - loss: 0.1669 - accuracy: 0.9484 - val_loss: 0.1186 - val_accuracy: 0.9720\n",
            "Epoch 83/100\n",
            "11/11 [==============================] - 0s 7ms/step - loss: 0.1704 - accuracy: 0.9437 - val_loss: 0.1194 - val_accuracy: 0.9790\n",
            "Epoch 84/100\n",
            "11/11 [==============================] - 0s 7ms/step - loss: 0.1783 - accuracy: 0.9366 - val_loss: 0.1186 - val_accuracy: 0.9790\n",
            "Epoch 85/100\n",
            "11/11 [==============================] - 0s 7ms/step - loss: 0.1765 - accuracy: 0.9390 - val_loss: 0.1154 - val_accuracy: 0.9790\n",
            "Epoch 86/100\n",
            "11/11 [==============================] - 0s 7ms/step - loss: 0.1630 - accuracy: 0.9319 - val_loss: 0.1136 - val_accuracy: 0.9790\n",
            "Epoch 87/100\n",
            "11/11 [==============================] - 0s 7ms/step - loss: 0.1767 - accuracy: 0.9296 - val_loss: 0.1123 - val_accuracy: 0.9790\n",
            "Epoch 88/100\n",
            "11/11 [==============================] - 0s 6ms/step - loss: 0.1741 - accuracy: 0.9343 - val_loss: 0.1127 - val_accuracy: 0.9790\n",
            "Epoch 89/100\n",
            "11/11 [==============================] - 0s 7ms/step - loss: 0.1659 - accuracy: 0.9413 - val_loss: 0.1126 - val_accuracy: 0.9790\n",
            "Epoch 90/100\n",
            "11/11 [==============================] - 0s 7ms/step - loss: 0.1790 - accuracy: 0.9413 - val_loss: 0.1111 - val_accuracy: 0.9790\n",
            "Epoch 91/100\n",
            "11/11 [==============================] - 0s 6ms/step - loss: 0.1546 - accuracy: 0.9460 - val_loss: 0.1082 - val_accuracy: 0.9790\n",
            "Epoch 92/100\n",
            "11/11 [==============================] - 0s 6ms/step - loss: 0.1714 - accuracy: 0.9460 - val_loss: 0.1076 - val_accuracy: 0.9790\n",
            "Epoch 93/100\n",
            "11/11 [==============================] - 0s 7ms/step - loss: 0.1581 - accuracy: 0.9507 - val_loss: 0.1070 - val_accuracy: 0.9790\n",
            "Epoch 94/100\n",
            "11/11 [==============================] - 0s 6ms/step - loss: 0.1830 - accuracy: 0.9296 - val_loss: 0.1043 - val_accuracy: 0.9860\n",
            "Epoch 95/100\n",
            "11/11 [==============================] - 0s 7ms/step - loss: 0.1636 - accuracy: 0.9366 - val_loss: 0.1058 - val_accuracy: 0.9790\n",
            "Epoch 96/100\n",
            "11/11 [==============================] - 0s 7ms/step - loss: 0.1569 - accuracy: 0.9507 - val_loss: 0.1030 - val_accuracy: 0.9860\n",
            "Epoch 97/100\n",
            "11/11 [==============================] - 0s 7ms/step - loss: 0.1578 - accuracy: 0.9413 - val_loss: 0.1038 - val_accuracy: 0.9790\n",
            "Epoch 98/100\n",
            "11/11 [==============================] - 0s 6ms/step - loss: 0.1523 - accuracy: 0.9577 - val_loss: 0.1035 - val_accuracy: 0.9860\n",
            "Epoch 99/100\n",
            "11/11 [==============================] - 0s 7ms/step - loss: 0.1581 - accuracy: 0.9507 - val_loss: 0.1011 - val_accuracy: 0.9790\n",
            "Epoch 100/100\n",
            "11/11 [==============================] - 0s 6ms/step - loss: 0.1558 - accuracy: 0.9413 - val_loss: 0.0985 - val_accuracy: 0.9860\n"
          ]
        }
      ]
    },
    {
      "cell_type": "code",
      "metadata": {
        "colab": {
          "base_uri": "https://localhost:8080/",
          "height": 927
        },
        "id": "tUtN6d9keAQn",
        "outputId": "9cfee11a-7794-417c-a5a1-39e98349c3ea"
      },
      "source": [
        "#plot the training and validation accuracy and loss at each epoch\n",
        "loss = history.history['loss']\n",
        "val_loss = history.history['val_loss']\n",
        "epochs = range(1, len(loss) + 1)\n",
        "plt.plot(epochs, loss, 'y', label='Training loss')\n",
        "plt.plot(epochs, val_loss, 'r', label='Validation loss')\n",
        "plt.title('Training and validation loss')\n",
        "plt.xlabel('Epochs')\n",
        "plt.ylabel('Loss')\n",
        "plt.legend()\n",
        "plt.show()\n",
        "\n",
        "\n",
        "acc = history.history['accuracy']  #Use accuracy if acc doesn't work\n",
        "val_acc = history.history['val_accuracy']  #Use val_accuracy if acc doesn't work\n",
        "plt.plot(epochs, acc, 'y', label='Training acc')\n",
        "plt.plot(epochs, val_acc, 'r', label='Validation acc')\n",
        "plt.title('Training and validation accuracy')\n",
        "plt.xlabel('Epochs')\n",
        "plt.ylabel('Accuracy')\n",
        "plt.legend()\n",
        "plt.show()"
      ],
      "execution_count": 14,
      "outputs": [
        {
          "output_type": "display_data",
          "data": {
            "text/plain": [
              "<Figure size 640x480 with 1 Axes>"
            ],
            "image/png": "[encoded data removed]"
          },
          "metadata": {}
        },
        {
          "output_type": "display_data",
          "data": {
            "text/plain": [
              "<Figure size 640x480 with 1 Axes>"
            ],
            "image/png": "[encoded data removed]"
          },
          "metadata": {}
        }
      ]
    },
    {
      "cell_type": "code",
      "metadata": {
        "colab": {
          "base_uri": "https://localhost:8080/",
          "height": 465
        },
        "id": "lRYHH_A3eeQB",
        "outputId": "0edaae7d-3ec6-42b9-fe94-b984d6e68d11"
      },
      "source": [
        "# Predicting the Test set results\n",
        "y_pred = model.predict(X_test)\n",
        "y_pred = (y_pred > 0.5)\n",
        "\n",
        "# Making the Confusion Matrix\n",
        "from sklearn.metrics import confusion_matrix\n",
        "cm = confusion_matrix(y_test, y_pred)\n",
        "\n",
        "sns.heatmap(cm, annot=True)"
      ],
      "execution_count": 15,
      "outputs": [
        {
          "output_type": "stream",
          "name": "stdout",
          "text": [
            "5/5 [==============================] - 0s 9ms/step\n"
          ]
        },
        {
          "output_type": "execute_result",
          "data": {
            "text/plain": [
              "<Axes: >"
            ]
          },
          "metadata": {},
          "execution_count": 15
        },
        {
          "output_type": "display_data",
          "data": {
            "text/plain": [
              "<Figure size 640x480 with 2 Axes>"
            ],
            "image/png": "[encoded data removed]"
          },
          "metadata": {}
        }
      ]
    }
  ]
}